{
 "cells": [
  {
   "cell_type": "code",
   "execution_count": 1,
   "id": "e390247c",
   "metadata": {},
   "outputs": [],
   "source": [
    "import os\n",
    "import nltk\n"
   ]
  },
  {
   "cell_type": "code",
   "execution_count": 2,
   "id": "2e01b7d7",
   "metadata": {},
   "outputs": [
    {
     "data": {
      "text/plain": [
       "'/Users/deepankkartikey/Desktop/uOttawa/Fall 2022/CSI 5386 F (NLP)/Assignment-1'"
      ]
     },
     "execution_count": 2,
     "metadata": {},
     "output_type": "execute_result"
    }
   ],
   "source": [
    "os.getcwd()"
   ]
  },
  {
   "cell_type": "code",
   "execution_count": 3,
   "id": "6e302f16",
   "metadata": {},
   "outputs": [
    {
     "data": {
      "text/plain": [
       "'/Users/deepankkartikey/Desktop/uOttawa/Fall 2022/CSI 5386 F (NLP)/Assignment-1/CUAD_v1/full_contract_txt/.'"
      ]
     },
     "execution_count": 3,
     "metadata": {},
     "output_type": "execute_result"
    }
   ],
   "source": [
    "dataFolder = os.path.join(os.getcwd(),'CUAD_v1/full_contract_txt/.')\n",
    "dataFolder"
   ]
  },
  {
   "cell_type": "code",
   "execution_count": 4,
   "id": "d614e9ec",
   "metadata": {},
   "outputs": [
    {
     "name": "stdout",
     "output_type": "stream",
     "text": [
      "510 ['LIMEENERGYCO_09_09_1999-EX-10-DISTRIBUTOR AGREEMENT.txt', 'WHITESMOKE,INC_11_08_2011-EX-10.26-PROMOTION AND DISTRIBUTION AGREEMENT.txt']\n"
     ]
    }
   ],
   "source": [
    "for root, folder, files in os.walk(dataFolder):\n",
    "    print(len(files), files[0:2])\n"
   ]
  },
  {
   "cell_type": "code",
   "execution_count": 5,
   "id": "28f7375f",
   "metadata": {},
   "outputs": [],
   "source": [
    "data = []\n",
    "\n",
    "for root, folders, files in os.walk(dataFolder):\n",
    "    for file in files[0:2]:\n",
    "        pathToFile = os.path.join(root, file)\n",
    "        with open(pathToFile) as info:\n",
    "            data.append(info.read())"
   ]
  },
  {
   "cell_type": "code",
   "execution_count": 6,
   "id": "fb957b5c",
   "metadata": {},
   "outputs": [
    {
     "data": {
      "text/plain": [
       "(list, 2)"
      ]
     },
     "execution_count": 6,
     "metadata": {},
     "output_type": "execute_result"
    }
   ],
   "source": [
    "type(data), len(data)"
   ]
  },
  {
   "cell_type": "code",
   "execution_count": 7,
   "id": "9783fb8e",
   "metadata": {},
   "outputs": [
    {
     "data": {
      "text/plain": [
       "(str, 124674)"
      ]
     },
     "execution_count": 7,
     "metadata": {},
     "output_type": "execute_result"
    }
   ],
   "source": [
    "corpus = ' '.join(data)\n",
    "type(corpus), len(corpus)"
   ]
  },
  {
   "cell_type": "code",
   "execution_count": 8,
   "id": "e27b7e39",
   "metadata": {},
   "outputs": [
    {
     "data": {
      "text/plain": [
       "'EXHIBIT 10.6\\n\\n                              DISTRIBUTOR AGREEMENT\\n\\n         THIS  DISTRIBUTOR  AGREEMENT (the  \"Agreement\")  is made by and between Electric City Corp.,  a Delaware  corporation  (\"Company\")  and Electric City of Illinois LLC (\"Distributor\") this 7th day of September, 1999.\\n\\n                                    RECITALS\\n\\n         A. The  Company\\'s  Business.  The Company is  presently  engaged in the business  of selling an energy  efficiency  device,  which is  referred to as an \"Energy  Saver\"  which may be improved  or  otherwise  changed  from its present composition (the \"Products\").  The Company may engage in the business of selling other  products  or  other  devices  other  than  the  Products,  which  will be considered  Products if Distributor  exercises its options pursuant to Section 7 hereof.\\n\\n         B. Representations.  As an inducement to the Company to enter into this Agreement,  the  Distributor  has  represented  that  it has or  will  have  the facil'"
      ]
     },
     "execution_count": 8,
     "metadata": {},
     "output_type": "execute_result"
    }
   ],
   "source": [
    "corpus[:1000]"
   ]
  },
  {
   "cell_type": "code",
   "execution_count": 9,
   "id": "e9a6175b",
   "metadata": {},
   "outputs": [
    {
     "data": {
      "text/plain": [
       "(534, str)"
      ]
     },
     "execution_count": 9,
     "metadata": {},
     "output_type": "execute_result"
    }
   ],
   "source": [
    "from nltk.tokenize import word_tokenize, sent_tokenize\n",
    "\n",
    "sent_tokens = sent_tokenize(corpus)\n",
    "\n",
    "len(sent_tokens), type(sent_tokens[0])"
   ]
  },
  {
   "cell_type": "code",
   "execution_count": 10,
   "id": "af8af3e7",
   "metadata": {},
   "outputs": [
    {
     "data": {
      "text/plain": [
       "'EXHIBIT 10.6\\n\\n                              DISTRIBUTOR AGREEMENT\\n\\n         THIS  DISTRIBUTOR  AGREEMENT (the  \"Agreement\")  is made by and between Electric City Corp.,  a Delaware  corporation  (\"Company\")  and Electric City of Illinois LLC (\"Distributor\") this 7th day of September, 1999.'"
      ]
     },
     "execution_count": 10,
     "metadata": {},
     "output_type": "execute_result"
    }
   ],
   "source": [
    "sent_tokens[0]"
   ]
  },
  {
   "cell_type": "code",
   "execution_count": 11,
   "id": "7f77c738",
   "metadata": {
    "scrolled": true
   },
   "outputs": [
    {
     "data": {
      "text/plain": [
       "['EXHIBIT',\n",
       " '10.6',\n",
       " 'DISTRIBUTOR',\n",
       " 'AGREEMENT',\n",
       " 'THIS',\n",
       " 'DISTRIBUTOR',\n",
       " 'AGREEMENT',\n",
       " '(',\n",
       " 'the',\n",
       " '``',\n",
       " 'Agreement',\n",
       " \"''\",\n",
       " ')',\n",
       " 'is',\n",
       " 'made',\n",
       " 'by',\n",
       " 'and',\n",
       " 'between',\n",
       " 'Electric',\n",
       " 'City',\n",
       " 'Corp.',\n",
       " ',',\n",
       " 'a',\n",
       " 'Delaware',\n",
       " 'corporation',\n",
       " '(',\n",
       " '``',\n",
       " 'Company',\n",
       " \"''\",\n",
       " ')',\n",
       " 'and',\n",
       " 'Electric',\n",
       " 'City',\n",
       " 'of',\n",
       " 'Illinois',\n",
       " 'LLC',\n",
       " '(',\n",
       " '``',\n",
       " 'Distributor',\n",
       " \"''\",\n",
       " ')',\n",
       " 'this',\n",
       " '7th',\n",
       " 'day',\n",
       " 'of',\n",
       " 'September',\n",
       " ',',\n",
       " '1999',\n",
       " '.']"
      ]
     },
     "execution_count": 11,
     "metadata": {},
     "output_type": "execute_result"
    }
   ],
   "source": [
    "import string\n",
    "\n",
    "tokens = [token for sent_token in sent_tokens[:1] \\\n",
    "          for token in word_tokenize(sent_token) \\\n",
    "          ]\n",
    "\n",
    "# tokens = [token.strip('``') for token in tokens]\n",
    "tokens"
   ]
  },
  {
   "cell_type": "code",
   "execution_count": 12,
   "id": "74595829",
   "metadata": {},
   "outputs": [
    {
     "data": {
      "text/plain": [
       "'!\"#$%&\\'()*+,-./:;<=>?@[\\\\]^_`{|}~'"
      ]
     },
     "execution_count": 12,
     "metadata": {},
     "output_type": "execute_result"
    }
   ],
   "source": [
    "string.punctuation"
   ]
  },
  {
   "cell_type": "code",
   "execution_count": null,
   "id": "335f6a0e",
   "metadata": {},
   "outputs": [],
   "source": [
    "string."
   ]
  }
 ],
 "metadata": {
  "kernelspec": {
   "display_name": "nlp",
   "language": "python",
   "name": "nlp"
  },
  "language_info": {
   "codemirror_mode": {
    "name": "ipython",
    "version": 3
   },
   "file_extension": ".py",
   "mimetype": "text/x-python",
   "name": "python",
   "nbconvert_exporter": "python",
   "pygments_lexer": "ipython3",
   "version": "3.10.4"
  }
 },
 "nbformat": 4,
 "nbformat_minor": 5
}
